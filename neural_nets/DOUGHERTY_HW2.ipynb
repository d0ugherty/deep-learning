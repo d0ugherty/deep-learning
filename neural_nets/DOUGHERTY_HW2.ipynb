{
 "cells": [
  {
   "cell_type": "code",
   "execution_count": 8,
   "metadata": {},
   "outputs": [],
   "source": [
    "from torch.utils.data import Dataset, DataLoader\n",
    "import os\n",
    "from PIL import Image\n",
    "from torchvision import transforms\n",
    "import numpy as np\n",
    "\n",
    "import matplotlib.pyplot as plt\n",
    "import torch\n",
    "from torch import optim\n",
    "import torch.nn as nn\n",
    "from torch.utils.data import Dataset, DataLoader\n",
    "from torchvision.datasets import MNIST\n",
    "from torchvision.transforms import ToTensor"
   ]
  },
  {
   "cell_type": "code",
   "execution_count": 6,
   "metadata": {},
   "outputs": [],
   "source": [
    "labels = np.array([2, 0, 4, 1])\n",
    "np.save('labels',labels)\n",
    "\n",
    "!mkdir -p data\n",
    "!mkdir -p data/train\n",
    "\n",
    "!wget -O data/train/img_0.jpg -nc -q https://github.com/darksigma/Fundamentals-of-Deep-Learning-Book/raw/master/ch05_implementing_nn_pytorch/data/train/img_0.jpg\n",
    "!wget -O data/train/img_1.jpg -nc -q https://github.com/darksigma/Fundamentals-of-Deep-Learning-Book/raw/master/ch05_implementing_nn_pytorch/data/train/img_1.jpg\n",
    "!wget -O data/train/img_2.jpg -nc -q https://github.com/darksigma/Fundamentals-of-Deep-Learning-Book/raw/master/ch05_implementing_nn_pytorch/data/train/img_2.jpg\n",
    "!wget -O data/train/img_3.jpg -nc -q https://github.com/darksigma/Fundamentals-of-Deep-Learning-Book/raw/master/ch05_implementing_nn_pytorch/data/train/img_3.jpg\n",
    "!wget -O data/train/labels.npy -nc -q https://github.com/darksigma/Fundamentals-of-Deep-Learning-Book/raw/master/ch05_implementing_nn_pytorch/data/train/labels.npy\n",
    "\n",
    "class ImageDataset(Dataset):\n",
    "  def __init__(self, img_dir, label_file):\n",
    "    super(ImageDataset, self).__init__()\n",
    "    self.img_dir = img_dir\n",
    "    self.labels = torch.tensor(np.load(label_file, allow_pickle=True))\n",
    "    self.transforms = transforms.ToTensor()\n",
    "  \n",
    "  def __getitem__(self, idx):\n",
    "    img_pth = os.path.join(self.img_dir, \"img_{}.jpg\".format(idx))\n",
    "    img = Image.open(img_pth)\n",
    "    img = self.transforms(img).flatten()\n",
    "    label = self.labels[idx]\n",
    "    return {\"data\":img, \"label\":label}\n",
    "  \n",
    "  def __len__(self):\n",
    "    return len(self.labels)\n",
    "  \n",
    "train_dataset = ImageDataset(img_dir='./data/train/',\n",
    "                             label_file='./data/train/labels.npy')\n",
    "\n",
    "train_loader = DataLoader(train_dataset, \n",
    "                          batch_size=4, \n",
    "                          shuffle=True)"
   ]
  },
  {
   "cell_type": "markdown",
   "metadata": {},
   "source": [
    "## MNIST Classifier"
   ]
  },
  {
   "cell_type": "code",
   "execution_count": 5,
   "metadata": {},
   "outputs": [],
   "source": [
    "class BaseClassifier(nn.Module):\n",
    "  def __init__(self, in_dim, feature_dim, out_dim):\n",
    "    super(BaseClassifier, self).__init__()\n",
    "    self.classifier = nn.Sequential(\n",
    "        nn.Linear(in_dim, feature_dim, bias=True),\n",
    "        nn.ReLU(),\n",
    "        nn.Linear(feature_dim, out_dim, bias=True)\n",
    "    )\n",
    "    \n",
    "  def forward(self, x):\n",
    "    return self.classifier(x)\n",
    "    \n",
    "\n",
    "# Load in MNIST dataset from PyTorch\n",
    "train_dataset = MNIST(\".\", train=True, \n",
    "                      download=True, transform=ToTensor())\n",
    "test_dataset = MNIST(\".\", train=False, \n",
    "                     download=True, transform=ToTensor())\n",
    "train_loader = DataLoader(train_dataset, \n",
    "                          batch_size=64, shuffle=True)\n",
    "test_loader = DataLoader(test_dataset, \n",
    "                         batch_size=64, shuffle=False)"
   ]
  }
 ],
 "metadata": {
  "kernelspec": {
   "display_name": "Python 3",
   "language": "python",
   "name": "python3"
  },
  "language_info": {
   "codemirror_mode": {
    "name": "ipython",
    "version": 3
   },
   "file_extension": ".py",
   "mimetype": "text/x-python",
   "name": "python",
   "nbconvert_exporter": "python",
   "pygments_lexer": "ipython3",
   "version": "3.10.12"
  },
  "orig_nbformat": 4
 },
 "nbformat": 4,
 "nbformat_minor": 2
}
