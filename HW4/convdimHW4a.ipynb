{
 "cells": [
  {
   "cell_type": "code",
   "execution_count": null,
   "id": "ed348a63-c1c7-4e91-9644-7d335fbcb773",
   "metadata": {},
   "outputs": [],
   "source": [
    "import torch\n",
    "import torch.nn as nn"
   ]
  },
  {
   "cell_type": "code",
   "execution_count": null,
   "id": "3bbb72a3-f868-4e09-b071-0a96719520a5",
   "metadata": {},
   "outputs": [],
   "source": [
    "conv1 = nn.Conv2d(in_channels=3, out_channels=6, kernel_size=3, padding = 1, stride = 2)\n",
    "\n",
    "x = torch.randn(2, 3, 224, 224)\n",
    "y = conv1(x)\n",
    "y.shape\n"
   ]
  },
  {
   "cell_type": "code",
   "execution_count": null,
   "id": "1611606d-10cc-4352-838a-0602b1dbb080",
   "metadata": {},
   "outputs": [],
   "source": [
    "x = torch.randn(2, 6, 112, 112)\n",
    "conv2 = nn.Conv2d(6, 8, kernel_size=3, padding=1)\n",
    "y = conv2(x)\n",
    "y.shape\n"
   ]
  },
  {
   "cell_type": "code",
   "execution_count": null,
   "id": "1d17506c-78a1-491d-9f6a-3a5acbef0ebb",
   "metadata": {},
   "outputs": [],
   "source": [
    "Conv2d(8, 16, kernel_size=7, stride = 4)\n"
   ]
  },
  {
   "cell_type": "code",
   "execution_count": null,
   "id": "0e95990c-c85f-48f3-9f3a-e930136ac68a",
   "metadata": {},
   "outputs": [],
   "source": [
    "nn.MaxPool2d(4)\n"
   ]
  },
  {
   "cell_type": "code",
   "execution_count": null,
   "id": "c3423af7-7dc1-4f13-87a6-04e22d835fe9",
   "metadata": {},
   "outputs": [],
   "source": [
    "Conv2d(in_channels=16, out_channels=16, kernel_size=5, padding = 2, stride = 1)\n"
   ]
  },
  {
   "cell_type": "code",
   "execution_count": null,
   "id": "3d71bbb0-f8cf-49f7-b5f1-b08ba7ba3ee9",
   "metadata": {},
   "outputs": [],
   "source": [
    "HW: \n",
    "AvgPool\n",
    "Flatten\n",
    "how do we apply AvgPool to get  BS x 256\n"
   ]
  }
 ],
 "metadata": {
  "kernelspec": {
   "display_name": "Python 3 (ipykernel)",
   "language": "python",
   "name": "python3"
  },
  "language_info": {
   "codemirror_mode": {
    "name": "ipython",
    "version": 3
   },
   "file_extension": ".py",
   "mimetype": "text/x-python",
   "name": "python",
   "nbconvert_exporter": "python",
   "pygments_lexer": "ipython3",
   "version": "3.8.10"
  }
 },
 "nbformat": 4,
 "nbformat_minor": 5
}
