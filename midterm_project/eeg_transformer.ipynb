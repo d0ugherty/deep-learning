{
 "cells": [
  {
   "cell_type": "code",
   "execution_count": null,
   "metadata": {},
   "outputs": [],
   "source": [
    "import numpy as np\n",
    "import glob\n",
    "import os\n",
    "import pandas as pd\n",
    "import scipy.signal as signal\n",
    "import mne\n",
    "import utils\n",
    "import matplotlib.pyplot as plt"
   ]
  },
  {
   "cell_type": "markdown",
   "metadata": {},
   "source": [
    "## Data pre-processing"
   ]
  },
  {
   "cell_type": "code",
   "execution_count": null,
   "metadata": {},
   "outputs": [],
   "source": [
    "#create dataframe from CSV files\n",
    "file_path= 'data/eeg_data_A/'\n",
    "#eeg_dataframe_A = utils.gdf_to_df(file_path)\n",
    "#eeg_dataframe_A.head()\n",
    "#eeg_dataframe_A = utils.format_df(eeg_dataframe_A)\n",
    "#eeg_dataframe_A.head()"
   ]
  },
  {
   "cell_type": "markdown",
   "metadata": {},
   "source": [
    "### Band-pass filtering  & ICA"
   ]
  },
  {
   "cell_type": "code",
   "execution_count": null,
   "metadata": {},
   "outputs": [],
   "source": [
    "gdf_files = glob.glob(os.path.join(file_path, '*.gdf'))\n",
    "\n",
    "\n",
    "channels = 25\n",
    "method = 'fastica'\n",
    "raw_objects = []  # List to store raw objects\n",
    "\n",
    "for file in gdf_files:\n",
    "    raw = mne.io.read_raw_gdf(file, preload=True)\n",
    "    raw.filter(l_freq=1.0, h_freq=40.0, verbose=False)\n",
    "    raw_objects.append(raw)\n",
    "\n",
    "# Concatenate raw objects\n",
    "if raw_objects:\n",
    "    print(\"concatenating raw data\")\n",
    "    combined_raw = mne.concatenate_raws(raw_objects)\n",
    "    combined_raw.plot(duration=5, n_channels=30, title='Raw EEG Data')\n",
    "\n",
    "                                    "
   ]
  },
  {
   "cell_type": "code",
   "execution_count": 8,
   "metadata": {},
   "outputs": [
    {
     "name": "stdout",
     "output_type": "stream",
     "text": [
      "[]\n"
     ]
    }
   ],
   "source": []
  },
  {
   "cell_type": "code",
   "execution_count": null,
   "metadata": {},
   "outputs": [],
   "source": [
    "# i ain't waiting for that again lmao\n",
    "#np.save('data/filtered_eeg_array.npy', eeg_data_filtered)\n",
    "\"\"\"\n",
    "eeg_data_filtered = np.load('data/filtered_eeg_array.npy')\n",
    "\n",
    "channel = 0\n",
    "\n",
    "plt.figure(figsize=(15, 8))\n",
    "\n",
    "# Plotting the original signal\n",
    "plt.subplot(2, 1, 1)\n",
    "plt.plot(eeg_data_unfiltered[channel], label='Original EEG')\n",
    "plt.title('Original EEG Signal')\n",
    "plt.xlabel('Time Points')\n",
    "plt.ylabel('Amplitude')\n",
    "plt.legend()\n",
    "\n",
    "# Plotting the filtered signal\n",
    "plt.subplot(2, 1, 2)\n",
    "plt.plot(eeg_data_filtered[channel], label='Filtered EEG')\n",
    "plt.title('Filtered EEG Signal')\n",
    "plt.xlabel('Time Points')\n",
    "plt.ylabel('Amplitude')\n",
    "plt.legend()\n",
    "\n",
    "plt.tight_layout()\n",
    "plt.show()\n",
    "\"\"\""
   ]
  },
  {
   "cell_type": "markdown",
   "metadata": {},
   "source": [
    "#### Independent Component Analysis"
   ]
  },
  {
   "cell_type": "code",
   "execution_count": null,
   "metadata": {},
   "outputs": [],
   "source": [
    "channels = 25\n",
    "method = 'fastica'\n",
    "\n",
    "ica = ICA(n_components=channels, method='fastica')\n",
    "ica.fit(eeg_data_filtered)\n",
    "ica.plot_components()\n"
   ]
  }
 ],
 "metadata": {
  "kernelspec": {
   "display_name": "Python 3",
   "language": "python",
   "name": "python3"
  },
  "language_info": {
   "codemirror_mode": {
    "name": "ipython",
    "version": 3
   },
   "file_extension": ".py",
   "mimetype": "text/x-python",
   "name": "python",
   "nbconvert_exporter": "python",
   "pygments_lexer": "ipython3",
   "version": "3.11.5"
  }
 },
 "nbformat": 4,
 "nbformat_minor": 2
}
