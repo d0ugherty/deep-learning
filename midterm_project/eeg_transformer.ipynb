{
 "cells": [
  {
   "cell_type": "code",
   "execution_count": null,
   "metadata": {},
   "outputs": [],
   "source": [
    "import numpy as np\n",
    "import pandas as pd\n",
    "import scipy.signal as signal\n",
    "import mne\n",
    "import utils\n",
    "import matplotlib.pyplot as plt"
   ]
  },
  {
   "cell_type": "markdown",
   "metadata": {},
   "source": [
    "Data pre-processing"
   ]
  },
  {
   "cell_type": "code",
   "execution_count": null,
   "metadata": {},
   "outputs": [],
   "source": [
    "#create dataframe from CSV files\n",
    "file_path= 'data/eeg_data_A/A*.csv'\n",
    "eeg_dataframe_A = utils.csv_to_df(file_path)\n",
    "eeg_dataframe_A.head()\n",
    "eeg_dataframe_A = utils.format_df(eeg_dataframe_A)\n",
    "eeg_dataframe_A.head()"
   ]
  },
  {
   "cell_type": "code",
   "execution_count": null,
   "metadata": {},
   "outputs": [],
   "source": [
    "# Band-pass filtering\n",
    "# High pass filter\n",
    "eeg_data_unfiltered = eeg_dataframe_A.values\n",
    "\n",
    "cutoff = 0.5 # typical for high pass filter\n",
    "sampling_rate = 250 # Hz\n",
    "\n",
    "eeg_data_filtered = utils.hp_filter(eeg_dataframe_A, sampling_rate, cutoff)\n"
   ]
  },
  {
   "cell_type": "code",
   "execution_count": null,
   "metadata": {},
   "outputs": [],
   "source": [
    "# i ain't waiting for that again lmao\n",
    "np.save('data/filtered_eeg_array.npy', eeg_data_filtered)\n",
    "\n",
    "channel = 0\n",
    "\n",
    "plt.figure(figsize=(15, 8))\n",
    "\n",
    "# Plotting the original signal\n",
    "plt.subplot(2, 1, 1)\n",
    "plt.plot(eeg_data_unfiltered[channel], label='Original EEG')\n",
    "plt.title('Original EEG Signal')\n",
    "plt.xlabel('Time Points')\n",
    "plt.ylabel('Amplitude')\n",
    "plt.legend()\n",
    "\n",
    "# Plotting the filtered signal\n",
    "plt.subplot(2, 1, 2)\n",
    "plt.plot(eeg_data_filtered[channel], label='Filtered EEG')\n",
    "plt.title('Filtered EEG Signal')\n",
    "plt.xlabel('Time Points')\n",
    "plt.ylabel('Amplitude')\n",
    "plt.legend()\n",
    "\n",
    "plt.tight_layout()\n",
    "plt.show()"
   ]
  }
 ],
 "metadata": {
  "kernelspec": {
   "display_name": "Python 3",
   "language": "python",
   "name": "python3"
  },
  "language_info": {
   "codemirror_mode": {
    "name": "ipython",
    "version": 3
   },
   "file_extension": ".py",
   "mimetype": "text/x-python",
   "name": "python",
   "nbconvert_exporter": "python",
   "pygments_lexer": "ipython3",
   "version": "3.11.5"
  }
 },
 "nbformat": 4,
 "nbformat_minor": 2
}
